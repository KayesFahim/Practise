{
 "cells": [
  {
   "cell_type": "code",
   "execution_count": 7,
   "metadata": {},
   "outputs": [
    {
     "name": "stdout",
     "output_type": "stream",
     "text": [
      "       country iso_code        date  total_vaccinations  people_vaccinated  \\\n",
      "0      Albania      ALB  2021-01-10                 0.0                0.0   \n",
      "1      Albania      ALB  2021-01-11                 NaN                NaN   \n",
      "2      Albania      ALB  2021-01-12               128.0              128.0   \n",
      "3      Albania      ALB  2021-01-13               188.0              188.0   \n",
      "4      Albania      ALB  2021-01-14               266.0              266.0   \n",
      "...        ...      ...         ...                 ...                ...   \n",
      "4430  Zimbabwe      ZWE  2021-02-23              4041.0             4041.0   \n",
      "4431  Zimbabwe      ZWE  2021-02-24              7872.0             7872.0   \n",
      "4432  Zimbabwe      ZWE  2021-02-25             11007.0            11007.0   \n",
      "4433  Zimbabwe      ZWE  2021-02-26             12579.0            12579.0   \n",
      "4434  Zimbabwe      ZWE  2021-02-27             15705.0            15705.0   \n",
      "\n",
      "      people_fully_vaccinated  daily_vaccinations_raw  daily_vaccinations  \\\n",
      "0                         NaN                     NaN                 NaN   \n",
      "1                         NaN                     NaN                64.0   \n",
      "2                         NaN                     NaN                64.0   \n",
      "3                         NaN                    60.0                63.0   \n",
      "4                         NaN                    78.0                66.0   \n",
      "...                       ...                     ...                 ...   \n",
      "4430                      NaN                  2727.0               808.0   \n",
      "4431                      NaN                  3831.0              1312.0   \n",
      "4432                      NaN                  3135.0              1572.0   \n",
      "4433                      NaN                  1572.0              1750.0   \n",
      "4434                      NaN                  3126.0              2150.0   \n",
      "\n",
      "      total_vaccinations_per_hundred  people_vaccinated_per_hundred  \\\n",
      "0                               0.00                           0.00   \n",
      "1                                NaN                            NaN   \n",
      "2                               0.00                           0.00   \n",
      "3                               0.01                           0.01   \n",
      "4                               0.01                           0.01   \n",
      "...                              ...                            ...   \n",
      "4430                            0.03                           0.03   \n",
      "4431                            0.05                           0.05   \n",
      "4432                            0.07                           0.07   \n",
      "4433                            0.08                           0.08   \n",
      "4434                            0.11                           0.11   \n",
      "\n",
      "      people_fully_vaccinated_per_hundred  daily_vaccinations_per_million  \\\n",
      "0                                     NaN                             NaN   \n",
      "1                                     NaN                            22.0   \n",
      "2                                     NaN                            22.0   \n",
      "3                                     NaN                            22.0   \n",
      "4                                     NaN                            23.0   \n",
      "...                                   ...                             ...   \n",
      "4430                                  NaN                            54.0   \n",
      "4431                                  NaN                            88.0   \n",
      "4432                                  NaN                           106.0   \n",
      "4433                                  NaN                           118.0   \n",
      "4434                                  NaN                           145.0   \n",
      "\n",
      "               vaccines         source_name  \\\n",
      "0       Pfizer/BioNTech  Ministry of Health   \n",
      "1       Pfizer/BioNTech  Ministry of Health   \n",
      "2       Pfizer/BioNTech  Ministry of Health   \n",
      "3       Pfizer/BioNTech  Ministry of Health   \n",
      "4       Pfizer/BioNTech  Ministry of Health   \n",
      "...                 ...                 ...   \n",
      "4430  Sinopharm/Beijing  Ministry of Health   \n",
      "4431  Sinopharm/Beijing  Ministry of Health   \n",
      "4432  Sinopharm/Beijing  Ministry of Health   \n",
      "4433  Sinopharm/Beijing  Ministry of Health   \n",
      "4434  Sinopharm/Beijing  Ministry of Health   \n",
      "\n",
      "                                         source_website  \n",
      "0     https://shendetesia.gov.al/covid19-ministria-e...  \n",
      "1     https://shendetesia.gov.al/covid19-ministria-e...  \n",
      "2     https://shendetesia.gov.al/covid19-ministria-e...  \n",
      "3     https://shendetesia.gov.al/covid19-ministria-e...  \n",
      "4     https://shendetesia.gov.al/covid19-ministria-e...  \n",
      "...                                                 ...  \n",
      "4430  https://twitter.com/MoHCCZim/status/1365740267...  \n",
      "4431  https://twitter.com/MoHCCZim/status/1365740267...  \n",
      "4432  https://twitter.com/MoHCCZim/status/1365740267...  \n",
      "4433  https://twitter.com/MoHCCZim/status/1365740267...  \n",
      "4434  https://twitter.com/MoHCCZim/status/1365740267...  \n",
      "\n",
      "[4435 rows x 15 columns]\n"
     ]
    }
   ],
   "source": [
    "import pandas as pd\n",
    "data_frame = pd.read_csv('vaccine.csv')\n",
    "print(data_frame)"
   ]
  },
  {
   "cell_type": "code",
   "execution_count": null,
   "metadata": {},
   "outputs": [],
   "source": []
  }
 ],
 "metadata": {
  "kernelspec": {
   "display_name": "Python 3",
   "language": "python",
   "name": "python3"
  },
  "language_info": {
   "codemirror_mode": {
    "name": "ipython",
    "version": 3
   },
   "file_extension": ".py",
   "mimetype": "text/x-python",
   "name": "python",
   "nbconvert_exporter": "python",
   "pygments_lexer": "ipython3",
   "version": "3.8.5"
  }
 },
 "nbformat": 4,
 "nbformat_minor": 4
}
